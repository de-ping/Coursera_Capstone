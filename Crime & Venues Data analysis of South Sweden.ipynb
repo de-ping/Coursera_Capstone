{
 "cells": [
  {
   "cell_type": "markdown",
   "metadata": {},
   "source": [
    "# Crime & Venues Data analysis of South Sweden"
   ]
  },
  {
   "cell_type": "markdown",
   "metadata": {},
   "source": [
    "## Table of contents\n",
    "* [Introduction](#introduction)\n",
    "* [Data Description](#data_description)\n",
    "* [Methodology](#methodology)\n",
    "* [Results](#results)\n",
    "* [Discussion](#discussion)\n",
    "* [Conclusion](#conclusion)\n",
    "* [References](#references)"
   ]
  },
  {
   "cell_type": "markdown",
   "metadata": {},
   "source": [
    "\n",
    "\n",
    "## Introduction <a name=\"introduction\"></a>"
   ]
  },
  {
   "cell_type": "markdown",
   "metadata": {},
   "source": [
    "Sweden is an amazing Nordic country. Many internationals are attracted by the opportunity to work, study and live in the country each year. South Sweden is particular popular due to its natural beauties. \n",
    "\n",
    "In this project I will make a comparison of the various crime rates across the 58 municipalities in South Sweden. I'll also make a ranking list of number of asian restaruants in the region. \n",
    "\n",
    "There are hundreads different kinds of crimes according to the definition of crime in Sweden. I'll only choose those posing most serious threat to people's lives and property for analysis. \n",
    "\n",
    "The report will give those plan moving to or already live in South Sweden a better picture how crimes and aisan restaurants are distributed in the regeion. It will help stakeholders interested in living in South Sweden choose the destination from these two pespespectives analyzed in this report."
   ]
  },
  {
   "cell_type": "markdown",
   "metadata": {},
   "source": [
    "## Data Description <a name=\"data_description\"></a>"
   ]
  },
  {
   "cell_type": "markdown",
   "metadata": {},
   "source": [
    "To archieve above goal, I'll need below data:\n",
    "\n",
    "* Reported crimes in the municipalities of South region in year 2018.\n",
    "    - The data will be imported to Pandas DataFrame for clean-up and analysis. The result will be shown on a **Choropleth map** where the 58 municipalities are shaded or patterned in proportion to the crime rates being displayed on the map. \n",
    "    - The data will be obtained from **The Swedish National Council for Crime Prevention(www.bra.se)**. Please note:\n",
    "        - The statistics show the number of reported crimes but not the total number actually committed crimes.\n",
    "        - It only covers the year of 2018, the tendency to reported crimes can change over time.\n",
    "        - The definition of crimes may differ from country to country, it could have a broader definition in Sweden.  \n",
    "&nbsp;  \n",
    "* Asian restaurants in the 58 municipalities in South Sweden\n",
    "    - A ranking list will be made from the data.\n",
    "    - Information of venues in each munipality are fetched through **Forsquare API**.\n",
    "    - Information of asian restaurants are extracted from venues using python.  \n",
    "&nbsp;  \n",
    "* Coordinates of the 58 municipalities in South Sweden.\n",
    "    - The data will be used by Forsquare API to get venues in each municipality.\n",
    "    - The data will be obtained by using geocoding of **geopy library of python**  \n",
    "&nbsp;      \n",
    "* Geopatial Data of the 58 municipalities in South Sweden.\n",
    "    - The data with the coordinates of minicipality boundaries is the base to render the choropleth map.\n",
    "    - Data of Second-level Administrative Divisions, Sweden, 2015 will be obtained from **New York University Libraries' portal for maps and GIS data discovery(https://geo.nyu.edu/)**\n",
    "    - Geopatial Data of the 58 municipalities are extracted from it using python\n"
   ]
  }
 ],
 "metadata": {
  "kernelspec": {
   "display_name": "Python 3",
   "language": "python",
   "name": "python3"
  },
  "language_info": {
   "codemirror_mode": {
    "name": "ipython",
    "version": 3
   },
   "file_extension": ".py",
   "mimetype": "text/x-python",
   "name": "python",
   "nbconvert_exporter": "python",
   "pygments_lexer": "ipython3",
   "version": "3.7.4"
  }
 },
 "nbformat": 4,
 "nbformat_minor": 4
}
